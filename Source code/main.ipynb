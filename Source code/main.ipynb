{
  "cells": [
    {
      "cell_type": "markdown",
      "metadata": {
        "id": "F_wRWVfbPUXE"
      },
      "source": [
        "### **Install Packages**"
      ]
    },
    {
      "cell_type": "code",
      "execution_count": null,
      "metadata": {
        "id": "sUC_r557PUXH"
      },
      "outputs": [],
      "source": [
        "%pip install chromedriver_autoinstaller"
      ]
    },
    {
      "cell_type": "code",
      "execution_count": null,
      "metadata": {
        "id": "CgOPf0VbPUXJ"
      },
      "outputs": [],
      "source": [
        "%pip install selenium"
      ]
    },
    {
      "cell_type": "code",
      "execution_count": null,
      "metadata": {
        "id": "YG2C7nDuPUXJ"
      },
      "outputs": [],
      "source": [
        "%pip install tesseract"
      ]
    },
    {
      "cell_type": "code",
      "execution_count": null,
      "metadata": {
        "id": "FR2Wjyg-PUXJ"
      },
      "outputs": [],
      "source": [
        "%pip install pytesseract"
      ]
    },
    {
      "cell_type": "code",
      "execution_count": null,
      "metadata": {
        "id": "r18sRaiRPUXK"
      },
      "outputs": [],
      "source": [
        "%pip install webdriver_manager"
      ]
    },
    {
      "cell_type": "code",
      "execution_count": null,
      "metadata": {
        "id": "VGS4o5S_PUXK"
      },
      "outputs": [],
      "source": [
        "%pip install ddddocr"
      ]
    },
    {
      "cell_type": "markdown",
      "metadata": {
        "id": "OHIxrt9RPUXK"
      },
      "source": [
        "### **Import Package**"
      ]
    },
    {
      "cell_type": "code",
      "execution_count": 2,
      "metadata": {
        "id": "SidGsgKJPUXK"
      },
      "outputs": [],
      "source": [
        "\n",
        "from selenium.webdriver.common.by import By\n",
        "from selenium.webdriver.support.ui import WebDriverWait\n",
        "from selenium.webdriver.support import expected_conditions as EC\n",
        "from selenium import webdriver\n",
        "import json\n",
        "import os\n",
        "import re\n",
        "import shutil"
      ]
    },
    {
      "cell_type": "code",
      "execution_count": 3,
      "metadata": {
        "id": "3QquIAaePUXL"
      },
      "outputs": [],
      "source": [
        "global driver"
      ]
    },
    {
      "cell_type": "code",
      "execution_count": 4,
      "metadata": {
        "id": "YiXS5bHIPUXL"
      },
      "outputs": [],
      "source": [
        "global download_path\n",
        "download_path = os.path.join(os.getcwd(),\"tmp\")"
      ]
    },
    {
      "cell_type": "markdown",
      "metadata": {
        "id": "EYfde5nJPUXL"
      },
      "source": [
        "### **Functions**"
      ]
    },
    {
      "cell_type": "markdown",
      "metadata": {},
      "source": [
        "**Chromedriver 主要設定**\n",
        "\n",
        "* **不自動關閉瀏覽器**\n",
        "* **瀏覽器視窗最大化**\n",
        "* **設定下載路徑**\n",
        "* **禁用下载提示框**\n",
        "* **打開安全瀏覽**"
      ]
    },
    {
      "cell_type": "code",
      "execution_count": 5,
      "metadata": {
        "id": "J9oPlp0mPUXL"
      },
      "outputs": [],
      "source": [
        "\n",
        "def driver_setting():\n",
        "    options = webdriver.ChromeOptions()\n",
        "    options.add_experimental_option('detach', True)  #不自動關閉瀏覽器\n",
        "    options.add_argument('--start-maximized') #瀏覽器視窗最大化\n",
        "\n",
        "    prefs = {\n",
        "        'profile.default_content_settings.popups': 0,\n",
        "        'download.default_directory': download_path, # 設定下載路徑\n",
        "        'download.prompt_for_download': False,  # 禁用下载提示框\n",
        "        'safebrowsing.enabled': True  # 打開安全瀏覽\n",
        "    }\n",
        "    options.add_experimental_option('prefs', prefs)\n",
        "\n",
        "    # options.\n",
        "    driver = webdriver.Chrome(options=options)\n",
        "    return driver"
      ]
    },
    {
      "cell_type": "markdown",
      "metadata": {},
      "source": [
        "**去成績頁面(grade page)抓所有課程**"
      ]
    },
    {
      "cell_type": "code",
      "execution_count": 6,
      "metadata": {
        "id": "w2KzgOIsPUXM"
      },
      "outputs": [],
      "source": [
        "def goto_grade_page():\n",
        "    # 讀取檔案\n",
        "    with open('env.json') as file:\n",
        "        env = json.load(file)\n",
        "    driver.get('https://elearn.nthu.edu.tw/my/')\n",
        "    driver.add_cookie(env['cookie'])\n",
        "    driver.refresh()\n",
        "    driver.get(\"https://elearn.nthu.edu.tw/grade/report/overview/index.php\")"
      ]
    },
    {
      "cell_type": "markdown",
      "metadata": {},
      "source": [
        "**蒐集各科目 URL**"
      ]
    },
    {
      "cell_type": "code",
      "execution_count": 7,
      "metadata": {
        "id": "gzLDZRv6PUXM"
      },
      "outputs": [],
      "source": [
        "def collect_class_urls():\n",
        "    # 使用 WebDriverWait 等待表格出現\n",
        "    table = WebDriverWait(driver, 10).until(\n",
        "        EC.presence_of_element_located((By.ID, \"overview-grade\"))\n",
        "    )\n",
        "\n",
        "    # 找到表格中的所有連結元素\n",
        "    links = table.find_elements(By.XPATH, \"//td[@class='cell c0']/a\")\n",
        "\n",
        "    # 提取所有連結的 href 屬性值\n",
        "    urls = [link.get_attribute(\"href\") for link in links]\n",
        "\n",
        "    return urls"
      ]
    },
    {
      "cell_type": "markdown",
      "metadata": {},
      "source": [
        "**蒐集各科目 ID**"
      ]
    },
    {
      "cell_type": "code",
      "execution_count": 8,
      "metadata": {
        "id": "G0i4EqEmPUXM"
      },
      "outputs": [],
      "source": [
        "def collect_class_ids(urls):\n",
        "    # 印出所有的 href 值\n",
        "    ids=[]\n",
        "    for url in urls:\n",
        "        # 使用正規表達式匹配 URL 中的 id 數字\n",
        "        match = re.search(r'id=(\\d+)', url)\n",
        "\n",
        "        if match:\n",
        "            id_number = match.group(1)\n",
        "            # print(\"從 URL 中取得的 id 數字:\", id_number)\n",
        "            ids.append(id_number)\n",
        "        else:\n",
        "            print(\"未找到 id 數字\")\n",
        "\n",
        "    return ids"
      ]
    },
    {
      "cell_type": "markdown",
      "metadata": {},
      "source": [
        "**蒐集各科作業繳交頁面 ID**"
      ]
    },
    {
      "cell_type": "code",
      "execution_count": 9,
      "metadata": {
        "id": "h3ZfKk1vPUXN"
      },
      "outputs": [],
      "source": [
        "def collect_homework_page(class_ids):\n",
        "\n",
        "    ids = []\n",
        "\n",
        "    base_url = 'https://elearn.nthu.edu.tw/mod/assign/index.php?id='\n",
        "    for class_id in class_ids:\n",
        "        url = base_url+class_id\n",
        "        driver.get(url)\n",
        "\n",
        "        WebDriverWait(driver, 10).until(\n",
        "            EC.presence_of_element_located((By.ID, \"maincontent\"))\n",
        "        )\n",
        "\n",
        "        table = driver.find_elements(By.CLASS_NAME,'generaltable')\n",
        "        if table:\n",
        "            ids.append(class_id)\n",
        "\n",
        "\n",
        "    return ids"
      ]
    },
    {
      "cell_type": "markdown",
      "metadata": {},
      "source": [
        "**科目標題formatter** <br>\n",
        "**Ex:**\n",
        "**110xxxx 計算機網路 CSxxxx -> 計算機網路**"
      ]
    },
    {
      "cell_type": "code",
      "execution_count": 10,
      "metadata": {
        "id": "1Z_hKlC1PUXN"
      },
      "outputs": [],
      "source": [
        "def make_chinese_string(original_string):\n",
        "    chinese_pattern = re.compile('[\\u4e00-\\u9fa5]+')\n",
        "    chinese_matches = chinese_pattern.findall(original_string)\n",
        "\n",
        "    # 將匹配到的中文字符列表合併成字串\n",
        "    chinese_text = ''.join(chinese_matches)\n",
        "\n",
        "    return chinese_text"
      ]
    },
    {
      "cell_type": "markdown",
      "metadata": {},
      "source": [
        "**日期parser、formatter** <br>\n",
        "**Ex:**\n",
        "**2023年03月2日 -> 2023-03-02**"
      ]
    },
    {
      "cell_type": "code",
      "execution_count": 11,
      "metadata": {
        "id": "bR1gKMJ5PUXN"
      },
      "outputs": [],
      "source": [
        "def parse_and_format_date(date_string):\n",
        "    # 使用正規表達式抓取年月日\n",
        "    match = re.search(r'(\\d{4})年 (\\d{1,2})月 (\\d{1,2})日', date_string)\n",
        "\n",
        "    if match:\n",
        "        year, month, day = match.groups()\n",
        "        formatted_date = f\"{year}-{month.zfill(2)}-{day.zfill(2)}\"\n",
        "        return formatted_date\n",
        "    else:\n",
        "        return None\n"
      ]
    },
    {
      "cell_type": "markdown",
      "metadata": {},
      "source": [
        "**等待下載中的檔案**"
      ]
    },
    {
      "cell_type": "code",
      "execution_count": 12,
      "metadata": {
        "id": "_UDiz0Q5PUXN"
      },
      "outputs": [],
      "source": [
        "def wait_for_download():\n",
        "\n",
        "    # Wait for download\n",
        "    while True:\n",
        "        files = os.listdir(download_path)\n",
        "        if len(files) >= 0 and not any('.crdownload' in name for name in files) and not any('.tmp' in name for name in files) :\n",
        "            break\n",
        "        for name in files:\n",
        "            if name.endswith('.crdownload') or name.endswith('.tmp'):\n",
        "                continue\n",
        "            else:\n",
        "                break"
      ]
    },
    {
      "cell_type": "markdown",
      "metadata": {},
      "source": [
        "**建立資料夾**"
      ]
    },
    {
      "cell_type": "code",
      "execution_count": 13,
      "metadata": {
        "id": "jHiuvWCmPUXN"
      },
      "outputs": [],
      "source": [
        "def make_directory(path,title):\n",
        "    try:\n",
        "      os.mkdir(path)\n",
        "    except FileExistsError:\n",
        "      print(f\"目錄 '{title}' 已存在\")"
      ]
    },
    {
      "cell_type": "markdown",
      "metadata": {},
      "source": [
        "**下載各作業繳交的全部檔案**"
      ]
    },
    {
      "cell_type": "code",
      "execution_count": 14,
      "metadata": {
        "id": "grWyOdSAPUXO"
      },
      "outputs": [],
      "source": [
        "def download_branch_homeworks(url,destination_path, is_last):\n",
        "\n",
        "    driver.get(url)\n",
        "\n",
        "    table = WebDriverWait(driver, 10).until(\n",
        "        EC.presence_of_element_located((By.CLASS_NAME, \"generaltable\"))\n",
        "    )\n",
        "\n",
        "    # 找到所有包含 target=\"_blank\" 的連結元素\n",
        "    links = table.find_elements(By.XPATH, \".//td[@class='cell c1 lastcol']//a[@target='_blank']\")\n",
        "\n",
        "    # 提取所有連結的 href 屬性值\n",
        "    file_hrefs = [link.get_attribute(\"href\") for link in links]\n",
        "\n",
        "    file_names = [link.text for link in links]\n",
        "\n",
        "\n",
        "    # 下載所有檔案\n",
        "    for file_href, file_name in zip(file_hrefs,file_names):\n",
        "        driver.get(file_href)\n",
        "        if is_last:\n",
        "            print(str(' ')*4 + '|-- ' + file_name)\n",
        "        else:\n",
        "            print('|' + str(' ')*3 + '|-- ' + file_name)\n",
        "\n",
        "    wait_for_download()\n",
        "    wait_for_download()\n",
        "    wait_for_download()\n",
        "    wait_for_download()\n",
        "    wait_for_download()\n",
        "\n",
        "    # 取得下載路徑中的所有文件\n",
        "    files_to_move = os.listdir(download_path)\n",
        "\n",
        "    if files_to_move:\n",
        "        # 移動所有檔案到目標路徑\n",
        "        for file_name in files_to_move:\n",
        "            source_path = os.path.join(download_path, file_name)\n",
        "            shutil.move(source_path, destination_path)"
      ]
    },
    {
      "cell_type": "markdown",
      "metadata": {},
      "source": [
        "**下載全部作業**"
      ]
    },
    {
      "cell_type": "code",
      "execution_count": 25,
      "metadata": {
        "id": "SBFYDhitPUXO"
      },
      "outputs": [],
      "source": [
        "def download_homeworks(base_ids):\n",
        "    \n",
        "    #創建assignments資料夾\n",
        "    make_directory(os.path.join(os.getcwd(),'assignments'), 'assignments')\n",
        "\n",
        "    #創建tmp資料夾\n",
        "    make_directory(os.path.join(os.getcwd(),'tmp'), 'tmp')\n",
        "\n",
        "\n",
        "    base = 'https://elearn.nthu.edu.tw/mod/assign/index.php?id='\n",
        "    for base_id in base_ids:\n",
        "        \n",
        "        print('')\n",
        "        \n",
        "        base_url = base + base_id\n",
        "        driver.get(base_url)\n",
        "\n",
        "        # 抓課程名稱\n",
        "        subject_title= WebDriverWait(driver, 10).until(\n",
        "            EC.presence_of_element_located((By.ID, 'sitetitle'))\n",
        "        )\n",
        "        subject_title = make_chinese_string(subject_title.text)\n",
        "        print(subject_title)\n",
        "\n",
        "        # 抓各科作業連結\n",
        "        table = WebDriverWait(driver, 10).until(\n",
        "            EC.presence_of_element_located((By.CLASS_NAME, \"generaltable\"))\n",
        "        )\n",
        "\n",
        "        # 找到表格中的所有連結元素\n",
        "        cell_c1 = table.find_elements(By.XPATH, \"//td[@class='cell c1']/a\")\n",
        "        branch_urls = [link.get_attribute(\"href\") for link in cell_c1]\n",
        "\n",
        "        # 找到各個作業名稱\n",
        "        branch_titles = [link.text for link in cell_c1]\n",
        "\n",
        "        # 找到各個作業死線\n",
        "        cell_c2 = table.find_elements(By.XPATH, \"//td[@class='cell c2']\")\n",
        "        temp_branch_deadlines = [link.text for link in cell_c2]\n",
        "\n",
        "        branch_deadlines = []\n",
        "        for topic in temp_branch_deadlines:\n",
        "            str = parse_and_format_date(topic)\n",
        "            branch_deadlines.append(str)\n",
        "\n",
        "        #創科目資料夾\n",
        "        subject_dir_path = os.path.join(os.getcwd(),'assignments',subject_title)\n",
        "        make_directory(subject_dir_path,subject_title)\n",
        "\n",
        "        for index, (branch_url, branch_deadline, branch_title) in enumerate(zip(branch_urls, branch_deadlines, branch_titles)):\n",
        "            # 創各科作業資料夾\n",
        "            if branch_deadline is None:\n",
        "                branch_dir_path = os.path.join(subject_dir_path, branch_title)\n",
        "                make_directory(branch_dir_path, branch_title)\n",
        "            else:\n",
        "                branch_dir_path = os.path.join(subject_dir_path, branch_deadline + ' ' + branch_title)\n",
        "                make_directory(branch_dir_path, branch_deadline + ' ' + branch_title)\n",
        "\n",
        "            print('|')\n",
        "            print('|-- ' + branch_title)\n",
        "\n",
        "\n",
        "            # Check if branch_url is the last element\n",
        "            if index == len(branch_urls) - 1:\n",
        "                last_url = True\n",
        "            else:\n",
        "                last_url = False\n",
        "\n",
        "            # 下載該作業所有繳過的檔案\n",
        "            download_branch_homeworks(branch_url, branch_dir_path, last_url)\n",
        "\n",
        "        print('')"
      ]
    },
    {
      "cell_type": "markdown",
      "metadata": {},
      "source": [
        "**移除assignments和tmp底下的空資料夾**"
      ]
    },
    {
      "cell_type": "code",
      "execution_count": 26,
      "metadata": {
        "id": "U7xWna0nPUXP"
      },
      "outputs": [],
      "source": [
        "def remove_empty_directory():\n",
        "    \n",
        "    # tmp\n",
        "    if os.path.exists(download_path):\n",
        "        os.rmdir(download_path)\n",
        "\n",
        "    # assignments\n",
        "    path = os.path.join(os.getcwd(),'assignments')\n",
        "    dirs = [name for name in os.listdir(path) if os.path.isdir(os.path.join(path, name))]\n",
        "    for dir in dirs:\n",
        "\n",
        "        sub_path = os.path.join(path,dir)\n",
        "        sub_dirs = [name for name in os.listdir(sub_path) if os.path.isdir(os.path.join(sub_path, name))]\n",
        "\n",
        "        for sub_dir in sub_dirs:\n",
        "            sub_sub_path = os.path.join(sub_path,sub_dir)\n",
        "            number_of_subsubcontents = len(os.listdir(sub_sub_path))\n",
        "\n",
        "            # 檢查資料夾是否為空\n",
        "            if number_of_subsubcontents == 0:\n",
        "                # 刪除資料夾\n",
        "                os.rmdir(sub_sub_path)\n",
        "\n",
        "\n",
        "\n",
        "        number_of_subcontents = len(os.listdir(os.path.join(path,dir)))\n",
        "        # 檢查資料夾是否為空\n",
        "        if number_of_subcontents == 0:\n",
        "            # 刪除資料夾\n",
        "            os.rmdir(sub_path)\n"
      ]
    },
    {
      "cell_type": "markdown",
      "metadata": {},
      "source": [
        "**移除assignments資料夾和tmp資料夾**"
      ]
    },
    {
      "cell_type": "code",
      "execution_count": 27,
      "metadata": {},
      "outputs": [],
      "source": [
        "def remove_useless_directory():\n",
        "    directories_to_remove = []\n",
        "    directories_to_remove.append(os.path.join(os.getcwd(),'assignments'))\n",
        "    directories_to_remove.append(os.path.join(os.getcwd(),'tmp'))\n",
        "    \n",
        "    for directory_to_remove in directories_to_remove:\n",
        "        if os.path.exists(directory_to_remove):\n",
        "            shutil.rmtree(directory_to_remove)"
      ]
    },
    {
      "cell_type": "markdown",
      "metadata": {},
      "source": [
        "**輸出'message'**"
      ]
    },
    {
      "cell_type": "code",
      "execution_count": 28,
      "metadata": {},
      "outputs": [],
      "source": [
        "def print_title(message):\n",
        "    print('#'*30 + f' {message} ' + '#'*30)"
      ]
    },
    {
      "cell_type": "markdown",
      "metadata": {
        "id": "4m3NfX-gPUXP"
      },
      "source": [
        "**Main function**"
      ]
    },
    {
      "cell_type": "code",
      "execution_count": 29,
      "metadata": {
        "id": "uHnxN3C1PUXP",
        "outputId": "f60d7ad7-a59e-4a6d-e825-97056d5d458f"
      },
      "outputs": [
        {
          "name": "stdout",
          "output_type": "stream",
          "text": [
            "############################## 開始下載 ##############################\n"
          ]
        },
        {
          "name": "stdout",
          "output_type": "stream",
          "text": [
            "\n",
            "機率\n",
            "|\n",
            "|-- Homework 1\n",
            "|\n",
            "|-- Homework 2\n",
            "|\n",
            "|-- Homework 3\n",
            "|\n",
            "|-- Homework 4\n",
            "|\n",
            "|-- Homework 5\n",
            "|\n",
            "|-- Homework 6\n",
            "|\n",
            "|-- Homework 7\n",
            "|\n",
            "|-- Homework 8\n",
            "|   |-- 109062173_葉昱揚.pdf\n",
            "|\n",
            "|-- Homework 9\n",
            "|   |-- 109062173_葉昱揚.pdf\n",
            "|\n",
            "|-- Homework 10\n",
            "|   |-- 109062173_葉昱揚.pdf\n",
            "|\n",
            "|-- Homework 11\n",
            "|   |-- 109062173_葉昱揚.pdf\n",
            "|\n",
            "|-- Homework 12\n",
            "    |-- 109062173_葉昱揚.pdf\n",
            "\n",
            "\n",
            "生態體系與全球變遷\n",
            "|\n",
            "|-- Extending readings and comments\n",
            "|   |-- 109062173_葉昱揚_W01.pdf\n",
            "|\n",
            "|-- Extending readings\n",
            "|   |-- 109062173_葉昱揚_W02.pdf\n",
            "|\n",
            "|-- Extending readings\n",
            "|\n",
            "|-- Exteniding readings\n",
            "|   |-- 109062173_葉昱揚_W04.pdf\n",
            "|\n",
            "|-- Extending readings\n",
            "|   |-- 109062173_葉昱揚_W05.pdf\n",
            "|\n",
            "|-- Extending readings\n",
            "|   |-- 109062173_葉昱揚_W06.pdf\n",
            "|\n",
            "|-- 期中考答卷\n",
            "|   |-- 109062173_葉昱揚_期中考.pdf\n",
            "|\n",
            "|-- Extending readings and comments\n",
            "|\n",
            "|-- Extending readings and comments\n",
            "|\n",
            "|-- Extending readings and comments\n",
            "|   |-- 109062173_葉昱揚_W10.pdf\n",
            "|\n",
            "|-- Extending readings and comments\n",
            "|   |-- 109062173_葉昱揚_W11.pdf\n",
            "|\n",
            "|-- Estending readings and comments\n",
            "|   |-- 109062173_葉昱揚_W12.pdf\n",
            "|\n",
            "|-- Extending readings and comments\n",
            "|   |-- 109062173_葉昱揚_W13.pdf\n",
            "|\n",
            "|-- 期末考考卷 Final exam paper\n",
            "    |-- 109062173_葉昱揚_期末考.pdf\n",
            "\n",
            "\n",
            "作業系統\n",
            "|\n",
            "|-- Checkpoint 1\n",
            "|   |-- 109062173-ppc1.zip\n",
            "|\n",
            "|-- Checkpoint 2\n",
            "|   |-- 109062173-ppc2.zip\n",
            "|\n",
            "|-- Checkpoint 3\n",
            "|   |-- 109062173-ppc3.zip\n",
            "|\n",
            "|-- Checkpoint 4\n",
            "|   |-- 109062173-ppc4.zip\n",
            "|\n",
            "|-- Checkpoint 5\n",
            "|\n",
            "|-- Final Project\n",
            "    |-- 109062173_葉昱揚.zip\n",
            "\n",
            "\n",
            "計算機網路概論\n",
            "|\n",
            "|-- 計算機網路概論 Homework 1\n",
            "|   |-- 109062173_葉昱揚_homework1.pdf\n",
            "|\n",
            "|-- 計算機網路概論 Homework 2\n",
            "|   |-- 109062173.rar\n",
            "|\n",
            "|-- Homework 3\n",
            "|   |-- code.m\n",
            "|   |-- result.mat\n",
            "|\n",
            "|-- 計算機網路概論 Homework 4\n",
            "|   |-- code.m\n",
            "|   |-- result.mat\n",
            "|\n",
            "|-- Final Project\n",
            "    |-- 109062173.pdf\n",
            "    |-- client.cpp\n",
            "    |-- query.txt\n",
            "    |-- Readme.txt\n",
            "    |-- server.cpp\n",
            "\n",
            "############################## 結束下載 ##############################\n"
          ]
        }
      ],
      "source": [
        "if __name__ == '__main__':\n",
        "    remove_useless_directory()\n",
        "    print_title('開始下載')\n",
        "    driver = driver_setting()\n",
        "    goto_grade_page()\n",
        "    class_urls = collect_class_urls()\n",
        "    class_ids = collect_class_ids(class_urls)\n",
        "    homework_pages = collect_homework_page(class_ids)\n",
        "    download_homeworks(homework_pages)\n",
        "    remove_empty_directory()\n",
        "    driver.quit()\n",
        "    print_title('結束下載')"
      ]
    }
  ],
  "metadata": {
    "colab": {
      "provenance": []
    },
    "kernelspec": {
      "display_name": "base",
      "language": "python",
      "name": "python3"
    },
    "language_info": {
      "codemirror_mode": {
        "name": "ipython",
        "version": 3
      },
      "file_extension": ".py",
      "mimetype": "text/x-python",
      "name": "python",
      "nbconvert_exporter": "python",
      "pygments_lexer": "ipython3",
      "version": "3.11.5"
    }
  },
  "nbformat": 4,
  "nbformat_minor": 0
}
